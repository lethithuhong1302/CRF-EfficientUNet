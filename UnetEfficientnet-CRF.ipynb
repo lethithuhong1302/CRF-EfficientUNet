{
 "cells": [
  {
   "cell_type": "code",
   "execution_count": 1,
   "metadata": {},
   "outputs": [],
   "source": [
    "import os\n",
    "os.environ[\"CUDA_DEVICE_ORDER\"] = \"PCI_BUS_ID\" \n",
    "os.environ[\"CUDA_VISIBLE_DEVICES\"] = \"1\""
   ]
  },
  {
   "cell_type": "code",
   "execution_count": 3,
   "metadata": {},
   "outputs": [],
   "source": [
    "from keras.optimizers import Adam\n",
    "from data import *\n",
    "from metrics import  dice,IU,recall,precision,f1,specificity\n",
    "from losses import dice_loss\n",
    "from modelDropOut import *"
   ]
  },
  {
   "cell_type": "code",
   "execution_count": 4,
   "metadata": {},
   "outputs": [
    {
     "name": "stdout",
     "output_type": "stream",
     "text": [
      "WARNING:tensorflow:From /home/honglt/.local/lib/python3.6/site-packages/tensorflow/python/framework/function.py:987: calling Graph.create_op (from tensorflow.python.framework.ops) with compute_shapes is deprecated and will be removed in a future version.\n",
      "Instructions for updating:\n",
      "Shapes are always computed; don't use the compute_shapes as it has no effect.\n"
     ]
    }
   ],
   "source": [
    "from losses import bce_dice_loss\n",
    "optim = Adam(lr = 1e-4)\n",
    "img_size_target = 384\n",
    "modelFolder = 'SaveModels/final'\n",
    "model = Unet( backbone_name='efficientnet-b5', input_shape=(img_size_target, img_size_target, 3),  encoder_freeze=False, encoder_weights='imagenet')\n",
    "model.load_weights(os.path.join(modelFolder,'model_efficientnetb5_dice.h5'))\n",
    "model.compile(optimizer=optim, loss=bce_dice_loss, metrics=['acc',dice,IU,recall,precision,f1,specificity])"
   ]
  },
  {
   "cell_type": "code",
   "execution_count": null,
   "metadata": {},
   "outputs": [],
   "source": [
    "from keras.models import Model\n",
    "from keras.layers import Activation\n",
    "activation='sigmoid'\n",
    "model.layers.pop()\n",
    "model.trainable = False\n",
    "from crfrnn_layer import CrfRnnLayer\n",
    "crf_layer = CrfRnnLayer(image_dims=(img_size_target,img_size_target),\n",
    "                            num_classes=1,\n",
    "                            theta_alpha=160.,\n",
    "                            theta_beta=3.,\n",
    "                            theta_gamma=3.,\n",
    "                            num_iterations=2,\n",
    "                            name='crfrnn')([model.layers[-1].output, model.inputs[0]])\n",
    "x = Activation(activation, name=activation)(crf_layer)\n",
    "model_crf = Model(inputs = model.input,outputs = x)\n",
    "model_crf.compile(optimizer=optim, loss=bce_dice_loss, metrics=['acc',dice,IU,recall,precision,f1,specificity])"
   ]
  },
  {
   "cell_type": "code",
   "execution_count": null,
   "metadata": {},
   "outputs": [],
   "source": [
    "model_crf.summary()"
   ]
  },
  {
   "cell_type": "code",
   "execution_count": null,
   "metadata": {},
   "outputs": [],
   "source": [
    "data_gen_args=dict()\n",
    "data_gen_args = dict(\n",
    "                    rotation_range=0.2,\n",
    "                    width_shift_range=0.05,\n",
    "                    height_shift_range=0.05,\n",
    "                    shear_range=0.05,\n",
    "                    zoom_range=0.05,\n",
    "                    brightness_range=[1, 1.5],\n",
    "                    horizontal_flip=True,\n",
    "                    vertical_flip=True,  \n",
    "                    #zca_whitening=True,\n",
    "                    #preprocessing_function = _augment,\n",
    "                    fill_mode='nearest')\n",
    "train_generator = trainGenerator(1,'data/train','image','label',data_gen_args,save_to_dir = None,image_size=img_size_target)\n"
   ]
  },
  {
   "cell_type": "code",
   "execution_count": null,
   "metadata": {},
   "outputs": [],
   "source": [
    "data_gen_args=dict()\n",
    "validation_generator = trainGenerator(1,'data/valid','image','label',data_gen_args,save_to_dir = None,image_size=img_size_target)"
   ]
  },
  {
   "cell_type": "code",
   "execution_count": null,
   "metadata": {},
   "outputs": [],
   "source": [
    "from keras.callbacks import ModelCheckpoint\n",
    "epochs = 1\n",
    "batch_size = 1\n",
    "steps_per_epoch = 100\n",
    "validation_steps = 10\n",
    "modelFolder = 'SaveModels/CRF'\n",
    "filepathsave=os.path.join(modelFolder,'model_efficientnetb5_dice_crf.h5')\n",
    "checkpoint = ModelCheckpoint(filepathsave, monitor='val_dice', verbose=1, save_best_only=True, mode='max')\n",
    "callbacks_list = [checkpoint]\n",
    "history =model_crf.fit_generator(train_generator,\n",
    "                              steps_per_epoch = steps_per_epoch,\n",
    "                              epochs=epochs,                              \n",
    "                              validation_data=validation_generator,\n",
    "                              validation_steps=validation_steps)"
   ]
  },
  {
   "cell_type": "code",
   "execution_count": null,
   "metadata": {},
   "outputs": [],
   "source": [
    "def testGenerator1(test_path,num_image = 28,target_size = (384,384),flag_multi_class = False,as_gray = False):\n",
    "    sourceFiles1 = os.listdir(test_path)\n",
    "    for i in range(len(sourceFiles1)):\n",
    "        img = io.imread(os.path.join(test_path,sourceFiles1[i]),as_gray = as_gray)\n",
    "        img = img / 255\n",
    "        img = trans.resize(img,target_size)\n",
    "        #img = np.reshape(img,img.shape+(1,)) if (not flag_multi_class) else img\n",
    "        img = np.reshape(img,(1,)+img.shape)\n",
    "        yield img"
   ]
  },
  {
   "cell_type": "code",
   "execution_count": null,
   "metadata": {},
   "outputs": [],
   "source": [
    "testGene = testGenerator1(\"data/CVC-ColonDB/Image\")\n",
    "results = model.predict_generator(testGene,300,verbose=0)"
   ]
  },
  {
   "cell_type": "code",
   "execution_count": null,
   "metadata": {},
   "outputs": [],
   "source": [
    "from data import *\n",
    "data_gen_args=dict()\n",
    "Colon_generator = trainGenerator(1,'data/CVC-ColonDB','Image','label',data_gen_args,save_to_dir = None,image_size=img_size_target)"
   ]
  },
  {
   "cell_type": "code",
   "execution_count": null,
   "metadata": {},
   "outputs": [],
   "source": [
    "from data import *\n",
    "data_gen_args=dict()\n",
    "ETIS_generator = trainGenerator(1,'data/ETIS-Larib','Image','label',data_gen_args,save_to_dir = None,image_size=img_size_target)"
   ]
  },
  {
   "cell_type": "code",
   "execution_count": null,
   "metadata": {},
   "outputs": [],
   "source": [
    "scores_val = model_crf.evaluate_generator(Colon_generator,300, verbose=0)"
   ]
  },
  {
   "cell_type": "code",
   "execution_count": null,
   "metadata": {},
   "outputs": [],
   "source": [
    "print(\"Score of:\")\n",
    "print(\"- val_acc:\\t\\t{}\".format(scores_val[1]))\n",
    "print(\"- val_dice:\\t{}\".format(scores_val[2]))\n",
    "print(\"- val_iou:\\t{}\".format(scores_val[3]))\n",
    "print(\"- val_recall:\\t{}\".format(scores_val[4]))\n",
    "print(\"- val_precision:\\t{}\".format(scores_val[5]))\n",
    "print(\"- val_f1:\\t{}\".format(scores_val[6]))\n",
    "print(\"- specificity:\\t{}\".format(scores_val[7]))"
   ]
  },
  {
   "cell_type": "code",
   "execution_count": null,
   "metadata": {},
   "outputs": [],
   "source": [
    "import matplotlib.pyplot as plt\n",
    "import matplotlib.image as mpimg\n",
    "image_size=384\n",
    "i=2\n",
    "sourceFiles_label = os.listdir(\"data/CVC-ColonDB/label\")\n",
    "label_path=\"data/CVC-ColonDB/label\"\n",
    "img_label = io.imread(os.path.join(label_path,sourceFiles_label[i]),as_gray = True)\n",
    "img_label = trans.resize(img_label,(image_size, image_size))\n",
    "fig = plt.figure()\n",
    "fig.subplots_adjust(hspace=0.4, wspace=0.4)\n",
    "\n",
    "ax = fig.add_subplot(1, 2, 1)\n",
    "ax.imshow(np.reshape(results[i]*255, (image_size, image_size)), cmap=\"gray\")\n",
    "\n",
    "ax = fig.add_subplot(1, 2, 2)\n",
    "ax.imshow(np.reshape(img_label, (image_size, image_size)), cmap=\"gray\")"
   ]
  },
  {
   "cell_type": "code",
   "execution_count": null,
   "metadata": {},
   "outputs": [],
   "source": [
    "fig = plt.figure()\n",
    "fig.subplots_adjust(hspace=0.4, wspace=0.4)\n",
    "\n",
    "ax = fig.add_subplot(1, 2, 1)\n",
    "ax.imshow(np.reshape(results[i]*255, (image_size, image_size)), cmap=\"gray\")"
   ]
  },
  {
   "cell_type": "code",
   "execution_count": null,
   "metadata": {},
   "outputs": [],
   "source": [
    "import matplotlib.pyplot as plt\n",
    "import matplotlib.image as mpimg\n",
    "acc = history.history['acc']\n",
    "val_acc = history.history['val_acc']\n",
    "plt.figure(figsize=(8, 8))\n",
    "plt.subplot(2, 1, 1)\n",
    "plt.plot(acc, label='Training acc')\n",
    "plt.plot(val_acc, label='Validation acc')\n",
    "plt.legend(loc='lower right')\n",
    "plt.ylabel('acc')\n",
    "plt.ylim([min(plt.ylim()),1])\n",
    "plt.title('Training and Validation acc')"
   ]
  },
  {
   "cell_type": "code",
   "execution_count": null,
   "metadata": {},
   "outputs": [],
   "source": [
    "import matplotlib.pyplot as plt\n",
    "import matplotlib.image as mpimg\n",
    "acc = history.history['loss']\n",
    "plt.figure(figsize=(8, 8))\n",
    "plt.subplot(2, 1, 1)\n",
    "plt.plot(acc, label='Training loss')\n",
    "#plt.legend(loc='lower right')\n",
    "#plt.ylabel('Training loss')\n",
    "plt.ylim([min(plt.ylim()),1])\n",
    "plt.title('Training loss')"
   ]
  },
  {
   "cell_type": "code",
   "execution_count": null,
   "metadata": {},
   "outputs": [],
   "source": [
    "import matplotlib.pyplot as plt\n",
    "import matplotlib.image as mpimg\n",
    "dice = history.history['dice']\n",
    "val_dice = history.history['val_dice']\n",
    "plt.figure(figsize=(8, 8))\n",
    "plt.subplot(2, 1, 1)\n",
    "plt.plot(dice, label='Training dice')\n",
    "plt.plot(val_dice, label='Validation dice')\n",
    "plt.legend(loc='lower right')\n",
    "plt.ylabel('dice')\n",
    "plt.ylim([min(plt.ylim()),1])\n",
    "plt.title('Training and Validation dice')"
   ]
  },
  {
   "cell_type": "code",
   "execution_count": null,
   "metadata": {},
   "outputs": [],
   "source": [
    "import matplotlib.pyplot as plt\n",
    "import matplotlib.image as mpimg\n",
    "IU = history.history['IU']\n",
    "val_IU = history.history['val_IU']\n",
    "plt.figure(figsize=(8, 8))\n",
    "plt.subplot(2, 1, 1)\n",
    "plt.plot(IU, label='Training IU')\n",
    "plt.plot(val_IU, label='Validation IU')\n",
    "plt.legend(loc='lower right')\n",
    "plt.ylabel('IU')\n",
    "plt.ylim([min(plt.ylim()),1])\n",
    "plt.title('Training and Validation IU')\n"
   ]
  },
  {
   "cell_type": "code",
   "execution_count": null,
   "metadata": {},
   "outputs": [],
   "source": [
    "import matplotlib.pyplot as plt\n",
    "import matplotlib.image as mpimg\n",
    "import matplotlib.pyplot as plt\n",
    "import matplotlib.image as mpimg\n",
    "recall = history.history['recall']\n",
    "val_recall = history.history['val_recall']\n",
    "plt.figure(figsize=(8, 8))\n",
    "plt.subplot(2, 1, 1)\n",
    "plt.plot(recall, label='Training recall')\n",
    "plt.plot(val_recall, label='Validation recall')\n",
    "plt.legend(loc='lower right')\n",
    "plt.ylabel('recall')\n",
    "plt.ylim([min(plt.ylim()),1])\n",
    "plt.title('Training and Validation recall')"
   ]
  },
  {
   "cell_type": "code",
   "execution_count": null,
   "metadata": {},
   "outputs": [],
   "source": [
    "import matplotlib.pyplot as plt\n",
    "import matplotlib.image as mpimg\n",
    "import matplotlib.pyplot as plt\n",
    "import matplotlib.image as mpimg\n",
    "precision = history.history['precision']\n",
    "val_precision = history.history['val_precision']\n",
    "plt.figure(figsize=(8, 8))\n",
    "plt.subplot(2, 1, 1)\n",
    "plt.plot(precision, label='Training precision')\n",
    "plt.plot(val_precision, label='Validation precision')\n",
    "plt.legend(loc='lower right')\n",
    "plt.ylabel('precision')\n",
    "plt.ylim([min(plt.ylim()),1])\n",
    "plt.title('Training and Validation precision')"
   ]
  },
  {
   "cell_type": "code",
   "execution_count": null,
   "metadata": {},
   "outputs": [],
   "source": [
    "import matplotlib.pyplot as plt\n",
    "import matplotlib.image as mpimg\n",
    "import matplotlib.pyplot as plt\n",
    "import matplotlib.image as mpimg\n",
    "f1 = history.history['f1']\n",
    "val_f1 = history.history['val_f1']\n",
    "plt.figure(figsize=(8, 8))\n",
    "plt.subplot(2, 1, 1)\n",
    "plt.plot(f1, label='Training f1')\n",
    "plt.plot(val_f1, label='Validation f1')\n",
    "plt.legend(loc='lower right')\n",
    "plt.ylabel('f1')\n",
    "plt.ylim([min(plt.ylim()),1])\n",
    "plt.title('Training and Validation f1')"
   ]
  },
  {
   "cell_type": "code",
   "execution_count": null,
   "metadata": {},
   "outputs": [],
   "source": [
    "import matplotlib.pyplot as plt\n",
    "import matplotlib.image as mpimg\n",
    "import matplotlib.pyplot as plt\n",
    "import matplotlib.image as mpimg\n",
    "specificity = history.history['specificity']\n",
    "val_specificity = history.history['val_specificity']\n",
    "plt.figure(figsize=(8, 8))\n",
    "plt.subplot(2, 1, 1)\n",
    "plt.plot(specificity, label='Training specificity')\n",
    "plt.plot(val_specificity, label='Validation specificity')\n",
    "plt.legend(loc='lower right')\n",
    "plt.ylabel('specificity')\n",
    "plt.ylim([min(plt.ylim()),1])\n",
    "plt.title('Training and Validation specificity')"
   ]
  },
  {
   "cell_type": "code",
   "execution_count": null,
   "metadata": {},
   "outputs": [],
   "source": []
  }
 ],
 "metadata": {
  "kernelspec": {
   "display_name": "Python [conda env:HongltEnv]",
   "language": "python",
   "name": "conda-env-HongltEnv-py"
  },
  "language_info": {
   "codemirror_mode": {
    "name": "ipython",
    "version": 3
   },
   "file_extension": ".py",
   "mimetype": "text/x-python",
   "name": "python",
   "nbconvert_exporter": "python",
   "pygments_lexer": "ipython3",
   "version": "3.6.8"
  }
 },
 "nbformat": 4,
 "nbformat_minor": 4
}
